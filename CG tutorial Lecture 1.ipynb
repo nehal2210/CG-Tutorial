{
 "cells": [
  {
   "cell_type": "code",
   "execution_count": 9,
   "metadata": {},
   "outputs": [
    {
     "data": {
      "text/plain": [
       "(1200, 1200, 3)"
      ]
     },
     "execution_count": 9,
     "metadata": {},
     "output_type": "execute_result"
    }
   ],
   "source": [
    "import cv2\n",
    "import numpy as np\n",
    "Image = cv2.imread('im.jpg')\n",
    "originalImage = Image.copy()\n",
    "originalImage.shape"
   ]
  },
  {
   "cell_type": "code",
   "execution_count": 7,
   "metadata": {},
   "outputs": [
    {
     "data": {
      "text/plain": [
       "(1200, 1200)"
      ]
     },
     "execution_count": 7,
     "metadata": {},
     "output_type": "execute_result"
    }
   ],
   "source": [
    "blue_color = originalImage[:,:,0]\n",
    "green_color = originalImage[:,:,1]\n",
    "red_color = originalImage[:,:,2]\n",
    "\n",
    "red_color.shape"
   ]
  },
  {
   "cell_type": "code",
   "execution_count": 12,
   "metadata": {},
   "outputs": [],
   "source": [
    "cv2.imshow('RGB image',originalImage)\n",
    "cv2.imshow('Red image', red_color)\n",
    "cv2.imshow('blue image', blue_color)\n",
    "cv2.imshow('green', green_color)\n",
    "\n",
    "  \n",
    "cv2.waitKey(0)\n",
    "cv2.destroyAllWindows()"
   ]
  },
  {
   "cell_type": "code",
   "execution_count": 13,
   "metadata": {},
   "outputs": [],
   "source": [
    "blue_image = Image.copy()\n",
    "red_image = Image.copy()\n",
    "green_image = Image.copy()\n",
    "\n",
    "\n",
    "blue_image[:,:,1]=0\n",
    "blue_image[:,:,2]=0\n",
    "\n",
    "\n",
    "green_image[:,:,0]=0\n",
    "green_image[:,:,2]=0\n",
    "\n",
    "red_image[:,:,0]=0\n",
    "red_image[:,:,1]=0\n",
    "\n",
    "\n",
    "\n",
    "cv2.imshow('RGB image',originalImage)\n",
    "cv2.imshow('Red image', red_image)\n",
    "cv2.imshow('blue image',blue_image)\n",
    "cv2.imshow('green', green_image)\n",
    "\n",
    "\n",
    "\n",
    "cv2.waitKey(0)\n",
    "cv2.destroyAllWindows()"
   ]
  },
  {
   "cell_type": "code",
   "execution_count": null,
   "metadata": {},
   "outputs": [],
   "source": []
  }
 ],
 "metadata": {
  "kernelspec": {
   "display_name": "Python 3",
   "language": "python",
   "name": "python3"
  },
  "language_info": {
   "codemirror_mode": {
    "name": "ipython",
    "version": 3
   },
   "file_extension": ".py",
   "mimetype": "text/x-python",
   "name": "python",
   "nbconvert_exporter": "python",
   "pygments_lexer": "ipython3",
   "version": "3.8.3"
  }
 },
 "nbformat": 4,
 "nbformat_minor": 4
}
